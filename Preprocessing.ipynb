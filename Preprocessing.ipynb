{
  "cells": [
    {
      "cell_type": "markdown",
      "metadata": {
        "id": "dJ1meD1zQy44"
      },
      "source": [
        "# **Import Library**"
      ]
    },
    {
      "cell_type": "code",
      "execution_count": 1,
      "metadata": {
        "id": "oPKosPGJQQAZ"
      },
      "outputs": [],
      "source": [
        "import numpy as np\n",
        "import pandas as pd\n",
        "import matplotlib.pyplot as plt\n",
        "import seaborn as sns"
      ]
    },
    {
      "cell_type": "markdown",
      "metadata": {
        "id": "PXWw0PtjQ75R"
      },
      "source": [
        "# **Preprocessing**"
      ]
    },
    {
      "cell_type": "markdown",
      "metadata": {
        "id": "egiExMo5Sv2G"
      },
      "source": [
        "**Dataset Source**: https://archive.ics.uci.edu/dataset/2/adult"
      ]
    },
    {
      "cell_type": "markdown",
      "metadata": {
        "id": "3C-XutULRAmD"
      },
      "source": [
        "**Data Loading**"
      ]
    },
    {
      "cell_type": "code",
      "execution_count": 2,
      "metadata": {
        "colab": {
          "base_uri": "https://localhost:8080/"
        },
        "id": "zMGTVaoqSVuQ",
        "outputId": "9f0fb57c-059f-4bc0-84a3-653f8eb47b2e"
      },
      "outputs": [
        {
          "name": "stdout",
          "output_type": "stream",
          "text": [
            "Requirement already satisfied: ucimlrepo in c:\\users\\espej\\appdata\\local\\programs\\python\\python313\\lib\\site-packages (0.0.7)\n",
            "Requirement already satisfied: pandas>=1.0.0 in c:\\users\\espej\\appdata\\local\\programs\\python\\python313\\lib\\site-packages (from ucimlrepo) (2.3.2)\n",
            "Requirement already satisfied: certifi>=2020.12.5 in c:\\users\\espej\\appdata\\local\\programs\\python\\python313\\lib\\site-packages (from ucimlrepo) (2025.8.3)\n",
            "Requirement already satisfied: numpy>=1.26.0 in c:\\users\\espej\\appdata\\local\\programs\\python\\python313\\lib\\site-packages (from pandas>=1.0.0->ucimlrepo) (2.3.2)\n",
            "Requirement already satisfied: python-dateutil>=2.8.2 in c:\\users\\espej\\appdata\\roaming\\python\\python313\\site-packages (from pandas>=1.0.0->ucimlrepo) (2.9.0.post0)\n",
            "Requirement already satisfied: pytz>=2020.1 in c:\\users\\espej\\appdata\\local\\programs\\python\\python313\\lib\\site-packages (from pandas>=1.0.0->ucimlrepo) (2025.2)\n",
            "Requirement already satisfied: tzdata>=2022.7 in c:\\users\\espej\\appdata\\local\\programs\\python\\python313\\lib\\site-packages (from pandas>=1.0.0->ucimlrepo) (2025.2)\n",
            "Requirement already satisfied: six>=1.5 in c:\\users\\espej\\appdata\\roaming\\python\\python313\\site-packages (from python-dateutil>=2.8.2->pandas>=1.0.0->ucimlrepo) (1.17.0)\n"
          ]
        }
      ],
      "source": [
        "!pip install ucimlrepo"
      ]
    },
    {
      "cell_type": "code",
      "execution_count": 3,
      "metadata": {
        "colab": {
          "base_uri": "https://localhost:8080/",
          "height": 293
        },
        "id": "du3hQeWFSdhS",
        "outputId": "ee8b5bd2-5bd3-4b30-805f-69e87b54c172"
      },
      "outputs": [
        {
          "data": {
            "text/html": [
              "<div>\n",
              "<style scoped>\n",
              "    .dataframe tbody tr th:only-of-type {\n",
              "        vertical-align: middle;\n",
              "    }\n",
              "\n",
              "    .dataframe tbody tr th {\n",
              "        vertical-align: top;\n",
              "    }\n",
              "\n",
              "    .dataframe thead th {\n",
              "        text-align: right;\n",
              "    }\n",
              "</style>\n",
              "<table border=\"1\" class=\"dataframe\">\n",
              "  <thead>\n",
              "    <tr style=\"text-align: right;\">\n",
              "      <th></th>\n",
              "      <th>age</th>\n",
              "      <th>workclass</th>\n",
              "      <th>fnlwgt</th>\n",
              "      <th>education</th>\n",
              "      <th>education-num</th>\n",
              "      <th>marital-status</th>\n",
              "      <th>occupation</th>\n",
              "      <th>relationship</th>\n",
              "      <th>race</th>\n",
              "      <th>sex</th>\n",
              "      <th>capital-gain</th>\n",
              "      <th>capital-loss</th>\n",
              "      <th>hours-per-week</th>\n",
              "      <th>native-country</th>\n",
              "      <th>income</th>\n",
              "    </tr>\n",
              "  </thead>\n",
              "  <tbody>\n",
              "    <tr>\n",
              "      <th>0</th>\n",
              "      <td>39</td>\n",
              "      <td>State-gov</td>\n",
              "      <td>77516</td>\n",
              "      <td>Bachelors</td>\n",
              "      <td>13</td>\n",
              "      <td>Never-married</td>\n",
              "      <td>Adm-clerical</td>\n",
              "      <td>Not-in-family</td>\n",
              "      <td>White</td>\n",
              "      <td>Male</td>\n",
              "      <td>2174</td>\n",
              "      <td>0</td>\n",
              "      <td>40</td>\n",
              "      <td>United-States</td>\n",
              "      <td>&lt;=50K</td>\n",
              "    </tr>\n",
              "    <tr>\n",
              "      <th>1</th>\n",
              "      <td>50</td>\n",
              "      <td>Self-emp-not-inc</td>\n",
              "      <td>83311</td>\n",
              "      <td>Bachelors</td>\n",
              "      <td>13</td>\n",
              "      <td>Married-civ-spouse</td>\n",
              "      <td>Exec-managerial</td>\n",
              "      <td>Husband</td>\n",
              "      <td>White</td>\n",
              "      <td>Male</td>\n",
              "      <td>0</td>\n",
              "      <td>0</td>\n",
              "      <td>13</td>\n",
              "      <td>United-States</td>\n",
              "      <td>&lt;=50K</td>\n",
              "    </tr>\n",
              "    <tr>\n",
              "      <th>2</th>\n",
              "      <td>38</td>\n",
              "      <td>Private</td>\n",
              "      <td>215646</td>\n",
              "      <td>HS-grad</td>\n",
              "      <td>9</td>\n",
              "      <td>Divorced</td>\n",
              "      <td>Handlers-cleaners</td>\n",
              "      <td>Not-in-family</td>\n",
              "      <td>White</td>\n",
              "      <td>Male</td>\n",
              "      <td>0</td>\n",
              "      <td>0</td>\n",
              "      <td>40</td>\n",
              "      <td>United-States</td>\n",
              "      <td>&lt;=50K</td>\n",
              "    </tr>\n",
              "    <tr>\n",
              "      <th>3</th>\n",
              "      <td>53</td>\n",
              "      <td>Private</td>\n",
              "      <td>234721</td>\n",
              "      <td>11th</td>\n",
              "      <td>7</td>\n",
              "      <td>Married-civ-spouse</td>\n",
              "      <td>Handlers-cleaners</td>\n",
              "      <td>Husband</td>\n",
              "      <td>Black</td>\n",
              "      <td>Male</td>\n",
              "      <td>0</td>\n",
              "      <td>0</td>\n",
              "      <td>40</td>\n",
              "      <td>United-States</td>\n",
              "      <td>&lt;=50K</td>\n",
              "    </tr>\n",
              "    <tr>\n",
              "      <th>4</th>\n",
              "      <td>28</td>\n",
              "      <td>Private</td>\n",
              "      <td>338409</td>\n",
              "      <td>Bachelors</td>\n",
              "      <td>13</td>\n",
              "      <td>Married-civ-spouse</td>\n",
              "      <td>Prof-specialty</td>\n",
              "      <td>Wife</td>\n",
              "      <td>Black</td>\n",
              "      <td>Female</td>\n",
              "      <td>0</td>\n",
              "      <td>0</td>\n",
              "      <td>40</td>\n",
              "      <td>Cuba</td>\n",
              "      <td>&lt;=50K</td>\n",
              "    </tr>\n",
              "  </tbody>\n",
              "</table>\n",
              "</div>"
            ],
            "text/plain": [
              "   age         workclass  fnlwgt  education  education-num  \\\n",
              "0   39         State-gov   77516  Bachelors             13   \n",
              "1   50  Self-emp-not-inc   83311  Bachelors             13   \n",
              "2   38           Private  215646    HS-grad              9   \n",
              "3   53           Private  234721       11th              7   \n",
              "4   28           Private  338409  Bachelors             13   \n",
              "\n",
              "       marital-status         occupation   relationship   race     sex  \\\n",
              "0       Never-married       Adm-clerical  Not-in-family  White    Male   \n",
              "1  Married-civ-spouse    Exec-managerial        Husband  White    Male   \n",
              "2            Divorced  Handlers-cleaners  Not-in-family  White    Male   \n",
              "3  Married-civ-spouse  Handlers-cleaners        Husband  Black    Male   \n",
              "4  Married-civ-spouse     Prof-specialty           Wife  Black  Female   \n",
              "\n",
              "   capital-gain  capital-loss  hours-per-week native-country income  \n",
              "0          2174             0              40  United-States  <=50K  \n",
              "1             0             0              13  United-States  <=50K  \n",
              "2             0             0              40  United-States  <=50K  \n",
              "3             0             0              40  United-States  <=50K  \n",
              "4             0             0              40           Cuba  <=50K  "
            ]
          },
          "execution_count": 3,
          "metadata": {},
          "output_type": "execute_result"
        }
      ],
      "source": [
        "from ucimlrepo import fetch_ucirepo\n",
        "\n",
        "# fetch dataset\n",
        "adult = fetch_ucirepo(id=2)\n",
        "\n",
        "# data (as pandas dataframes)\n",
        "X = adult.data.features\n",
        "y = adult.data.targets\n",
        "#melakukan pengabungan variabel target dan fitur\n",
        "df = pd.concat([X, y], axis=1)\n",
        "#menampilkan 5 baris pertama menggunakan fungsi df.head\n",
        "df.head()\n"
      ]
    },
    {
      "cell_type": "code",
      "execution_count": 4,
      "metadata": {
        "colab": {
          "base_uri": "https://localhost:8080/"
        },
        "id": "L18RaMTsUEn6",
        "outputId": "2b7a8eba-2487-49ff-c9fd-28e2074bca6e"
      },
      "outputs": [
        {
          "name": "stdout",
          "output_type": "stream",
          "text": [
            "<class 'pandas.core.frame.DataFrame'>\n",
            "RangeIndex: 48842 entries, 0 to 48841\n",
            "Data columns (total 15 columns):\n",
            " #   Column          Non-Null Count  Dtype \n",
            "---  ------          --------------  ----- \n",
            " 0   age             48842 non-null  int64 \n",
            " 1   workclass       47879 non-null  object\n",
            " 2   fnlwgt          48842 non-null  int64 \n",
            " 3   education       48842 non-null  object\n",
            " 4   education-num   48842 non-null  int64 \n",
            " 5   marital-status  48842 non-null  object\n",
            " 6   occupation      47876 non-null  object\n",
            " 7   relationship    48842 non-null  object\n",
            " 8   race            48842 non-null  object\n",
            " 9   sex             48842 non-null  object\n",
            " 10  capital-gain    48842 non-null  int64 \n",
            " 11  capital-loss    48842 non-null  int64 \n",
            " 12  hours-per-week  48842 non-null  int64 \n",
            " 13  native-country  48568 non-null  object\n",
            " 14  income          48842 non-null  object\n",
            "dtypes: int64(6), object(9)\n",
            "memory usage: 5.6+ MB\n"
          ]
        }
      ],
      "source": [
        "df.info()"
      ]
    },
    {
      "cell_type": "code",
      "execution_count": 5,
      "metadata": {
        "colab": {
          "base_uri": "https://localhost:8080/",
          "height": 466
        },
        "id": "ZWQuBcrXUGVS",
        "outputId": "28a1c1a3-f9e6-4ed6-b261-50fad6b00eaa"
      },
      "outputs": [
        {
          "data": {
            "text/html": [
              "<div>\n",
              "<style scoped>\n",
              "    .dataframe tbody tr th:only-of-type {\n",
              "        vertical-align: middle;\n",
              "    }\n",
              "\n",
              "    .dataframe tbody tr th {\n",
              "        vertical-align: top;\n",
              "    }\n",
              "\n",
              "    .dataframe thead th {\n",
              "        text-align: right;\n",
              "    }\n",
              "</style>\n",
              "<table border=\"1\" class=\"dataframe\">\n",
              "  <thead>\n",
              "    <tr style=\"text-align: right;\">\n",
              "      <th></th>\n",
              "      <th>age</th>\n",
              "      <th>workclass</th>\n",
              "      <th>fnlwgt</th>\n",
              "      <th>education</th>\n",
              "      <th>education-num</th>\n",
              "      <th>marital-status</th>\n",
              "      <th>occupation</th>\n",
              "      <th>relationship</th>\n",
              "      <th>race</th>\n",
              "      <th>sex</th>\n",
              "      <th>capital-gain</th>\n",
              "      <th>capital-loss</th>\n",
              "      <th>hours-per-week</th>\n",
              "      <th>native-country</th>\n",
              "      <th>income</th>\n",
              "    </tr>\n",
              "  </thead>\n",
              "  <tbody>\n",
              "    <tr>\n",
              "      <th>count</th>\n",
              "      <td>48842.000000</td>\n",
              "      <td>47879</td>\n",
              "      <td>4.884200e+04</td>\n",
              "      <td>48842</td>\n",
              "      <td>48842.000000</td>\n",
              "      <td>48842</td>\n",
              "      <td>47876</td>\n",
              "      <td>48842</td>\n",
              "      <td>48842</td>\n",
              "      <td>48842</td>\n",
              "      <td>48842.000000</td>\n",
              "      <td>48842.000000</td>\n",
              "      <td>48842.000000</td>\n",
              "      <td>48568</td>\n",
              "      <td>48842</td>\n",
              "    </tr>\n",
              "    <tr>\n",
              "      <th>unique</th>\n",
              "      <td>NaN</td>\n",
              "      <td>9</td>\n",
              "      <td>NaN</td>\n",
              "      <td>16</td>\n",
              "      <td>NaN</td>\n",
              "      <td>7</td>\n",
              "      <td>15</td>\n",
              "      <td>6</td>\n",
              "      <td>5</td>\n",
              "      <td>2</td>\n",
              "      <td>NaN</td>\n",
              "      <td>NaN</td>\n",
              "      <td>NaN</td>\n",
              "      <td>42</td>\n",
              "      <td>4</td>\n",
              "    </tr>\n",
              "    <tr>\n",
              "      <th>top</th>\n",
              "      <td>NaN</td>\n",
              "      <td>Private</td>\n",
              "      <td>NaN</td>\n",
              "      <td>HS-grad</td>\n",
              "      <td>NaN</td>\n",
              "      <td>Married-civ-spouse</td>\n",
              "      <td>Prof-specialty</td>\n",
              "      <td>Husband</td>\n",
              "      <td>White</td>\n",
              "      <td>Male</td>\n",
              "      <td>NaN</td>\n",
              "      <td>NaN</td>\n",
              "      <td>NaN</td>\n",
              "      <td>United-States</td>\n",
              "      <td>&lt;=50K</td>\n",
              "    </tr>\n",
              "    <tr>\n",
              "      <th>freq</th>\n",
              "      <td>NaN</td>\n",
              "      <td>33906</td>\n",
              "      <td>NaN</td>\n",
              "      <td>15784</td>\n",
              "      <td>NaN</td>\n",
              "      <td>22379</td>\n",
              "      <td>6172</td>\n",
              "      <td>19716</td>\n",
              "      <td>41762</td>\n",
              "      <td>32650</td>\n",
              "      <td>NaN</td>\n",
              "      <td>NaN</td>\n",
              "      <td>NaN</td>\n",
              "      <td>43832</td>\n",
              "      <td>24720</td>\n",
              "    </tr>\n",
              "    <tr>\n",
              "      <th>mean</th>\n",
              "      <td>38.643585</td>\n",
              "      <td>NaN</td>\n",
              "      <td>1.896641e+05</td>\n",
              "      <td>NaN</td>\n",
              "      <td>10.078089</td>\n",
              "      <td>NaN</td>\n",
              "      <td>NaN</td>\n",
              "      <td>NaN</td>\n",
              "      <td>NaN</td>\n",
              "      <td>NaN</td>\n",
              "      <td>1079.067626</td>\n",
              "      <td>87.502314</td>\n",
              "      <td>40.422382</td>\n",
              "      <td>NaN</td>\n",
              "      <td>NaN</td>\n",
              "    </tr>\n",
              "    <tr>\n",
              "      <th>std</th>\n",
              "      <td>13.710510</td>\n",
              "      <td>NaN</td>\n",
              "      <td>1.056040e+05</td>\n",
              "      <td>NaN</td>\n",
              "      <td>2.570973</td>\n",
              "      <td>NaN</td>\n",
              "      <td>NaN</td>\n",
              "      <td>NaN</td>\n",
              "      <td>NaN</td>\n",
              "      <td>NaN</td>\n",
              "      <td>7452.019058</td>\n",
              "      <td>403.004552</td>\n",
              "      <td>12.391444</td>\n",
              "      <td>NaN</td>\n",
              "      <td>NaN</td>\n",
              "    </tr>\n",
              "    <tr>\n",
              "      <th>min</th>\n",
              "      <td>17.000000</td>\n",
              "      <td>NaN</td>\n",
              "      <td>1.228500e+04</td>\n",
              "      <td>NaN</td>\n",
              "      <td>1.000000</td>\n",
              "      <td>NaN</td>\n",
              "      <td>NaN</td>\n",
              "      <td>NaN</td>\n",
              "      <td>NaN</td>\n",
              "      <td>NaN</td>\n",
              "      <td>0.000000</td>\n",
              "      <td>0.000000</td>\n",
              "      <td>1.000000</td>\n",
              "      <td>NaN</td>\n",
              "      <td>NaN</td>\n",
              "    </tr>\n",
              "    <tr>\n",
              "      <th>25%</th>\n",
              "      <td>28.000000</td>\n",
              "      <td>NaN</td>\n",
              "      <td>1.175505e+05</td>\n",
              "      <td>NaN</td>\n",
              "      <td>9.000000</td>\n",
              "      <td>NaN</td>\n",
              "      <td>NaN</td>\n",
              "      <td>NaN</td>\n",
              "      <td>NaN</td>\n",
              "      <td>NaN</td>\n",
              "      <td>0.000000</td>\n",
              "      <td>0.000000</td>\n",
              "      <td>40.000000</td>\n",
              "      <td>NaN</td>\n",
              "      <td>NaN</td>\n",
              "    </tr>\n",
              "    <tr>\n",
              "      <th>50%</th>\n",
              "      <td>37.000000</td>\n",
              "      <td>NaN</td>\n",
              "      <td>1.781445e+05</td>\n",
              "      <td>NaN</td>\n",
              "      <td>10.000000</td>\n",
              "      <td>NaN</td>\n",
              "      <td>NaN</td>\n",
              "      <td>NaN</td>\n",
              "      <td>NaN</td>\n",
              "      <td>NaN</td>\n",
              "      <td>0.000000</td>\n",
              "      <td>0.000000</td>\n",
              "      <td>40.000000</td>\n",
              "      <td>NaN</td>\n",
              "      <td>NaN</td>\n",
              "    </tr>\n",
              "    <tr>\n",
              "      <th>75%</th>\n",
              "      <td>48.000000</td>\n",
              "      <td>NaN</td>\n",
              "      <td>2.376420e+05</td>\n",
              "      <td>NaN</td>\n",
              "      <td>12.000000</td>\n",
              "      <td>NaN</td>\n",
              "      <td>NaN</td>\n",
              "      <td>NaN</td>\n",
              "      <td>NaN</td>\n",
              "      <td>NaN</td>\n",
              "      <td>0.000000</td>\n",
              "      <td>0.000000</td>\n",
              "      <td>45.000000</td>\n",
              "      <td>NaN</td>\n",
              "      <td>NaN</td>\n",
              "    </tr>\n",
              "    <tr>\n",
              "      <th>max</th>\n",
              "      <td>90.000000</td>\n",
              "      <td>NaN</td>\n",
              "      <td>1.490400e+06</td>\n",
              "      <td>NaN</td>\n",
              "      <td>16.000000</td>\n",
              "      <td>NaN</td>\n",
              "      <td>NaN</td>\n",
              "      <td>NaN</td>\n",
              "      <td>NaN</td>\n",
              "      <td>NaN</td>\n",
              "      <td>99999.000000</td>\n",
              "      <td>4356.000000</td>\n",
              "      <td>99.000000</td>\n",
              "      <td>NaN</td>\n",
              "      <td>NaN</td>\n",
              "    </tr>\n",
              "  </tbody>\n",
              "</table>\n",
              "</div>"
            ],
            "text/plain": [
              "                 age workclass        fnlwgt education  education-num  \\\n",
              "count   48842.000000     47879  4.884200e+04     48842   48842.000000   \n",
              "unique           NaN         9           NaN        16            NaN   \n",
              "top              NaN   Private           NaN   HS-grad            NaN   \n",
              "freq             NaN     33906           NaN     15784            NaN   \n",
              "mean       38.643585       NaN  1.896641e+05       NaN      10.078089   \n",
              "std        13.710510       NaN  1.056040e+05       NaN       2.570973   \n",
              "min        17.000000       NaN  1.228500e+04       NaN       1.000000   \n",
              "25%        28.000000       NaN  1.175505e+05       NaN       9.000000   \n",
              "50%        37.000000       NaN  1.781445e+05       NaN      10.000000   \n",
              "75%        48.000000       NaN  2.376420e+05       NaN      12.000000   \n",
              "max        90.000000       NaN  1.490400e+06       NaN      16.000000   \n",
              "\n",
              "            marital-status      occupation relationship   race    sex  \\\n",
              "count                48842           47876        48842  48842  48842   \n",
              "unique                   7              15            6      5      2   \n",
              "top     Married-civ-spouse  Prof-specialty      Husband  White   Male   \n",
              "freq                 22379            6172        19716  41762  32650   \n",
              "mean                   NaN             NaN          NaN    NaN    NaN   \n",
              "std                    NaN             NaN          NaN    NaN    NaN   \n",
              "min                    NaN             NaN          NaN    NaN    NaN   \n",
              "25%                    NaN             NaN          NaN    NaN    NaN   \n",
              "50%                    NaN             NaN          NaN    NaN    NaN   \n",
              "75%                    NaN             NaN          NaN    NaN    NaN   \n",
              "max                    NaN             NaN          NaN    NaN    NaN   \n",
              "\n",
              "        capital-gain  capital-loss  hours-per-week native-country income  \n",
              "count   48842.000000  48842.000000    48842.000000          48568  48842  \n",
              "unique           NaN           NaN             NaN             42      4  \n",
              "top              NaN           NaN             NaN  United-States  <=50K  \n",
              "freq             NaN           NaN             NaN          43832  24720  \n",
              "mean     1079.067626     87.502314       40.422382            NaN    NaN  \n",
              "std      7452.019058    403.004552       12.391444            NaN    NaN  \n",
              "min         0.000000      0.000000        1.000000            NaN    NaN  \n",
              "25%         0.000000      0.000000       40.000000            NaN    NaN  \n",
              "50%         0.000000      0.000000       40.000000            NaN    NaN  \n",
              "75%         0.000000      0.000000       45.000000            NaN    NaN  \n",
              "max     99999.000000   4356.000000       99.000000            NaN    NaN  "
            ]
          },
          "execution_count": 5,
          "metadata": {},
          "output_type": "execute_result"
        }
      ],
      "source": [
        "df.describe(include='all')"
      ]
    },
    {
      "cell_type": "code",
      "execution_count": 6,
      "metadata": {
        "colab": {
          "base_uri": "https://localhost:8080/",
          "height": 554
        },
        "id": "lgYkR6zeTb5W",
        "outputId": "71f60518-0467-428a-8a0c-ebe085451e49"
      },
      "outputs": [
        {
          "data": {
            "text/plain": [
              "age                 0\n",
              "workclass         963\n",
              "fnlwgt              0\n",
              "education           0\n",
              "education-num       0\n",
              "marital-status      0\n",
              "occupation        966\n",
              "relationship        0\n",
              "race                0\n",
              "sex                 0\n",
              "capital-gain        0\n",
              "capital-loss        0\n",
              "hours-per-week      0\n",
              "native-country    274\n",
              "income              0\n",
              "dtype: int64"
            ]
          },
          "execution_count": 6,
          "metadata": {},
          "output_type": "execute_result"
        }
      ],
      "source": [
        "#mengecek jumlah missing value\n",
        "df.isnull().sum()"
      ]
    },
    {
      "cell_type": "code",
      "execution_count": 7,
      "metadata": {
        "colab": {
          "base_uri": "https://localhost:8080/"
        },
        "id": "1QhjdCJgThom",
        "outputId": "1245a26c-cdf4-4e35-9d85-2bf75b18d62d"
      },
      "outputs": [
        {
          "name": "stdout",
          "output_type": "stream",
          "text": [
            "Rows before dropping any with missing values: 48842\n",
            "Rows with missing values: 1221\n",
            "Rows after dropping any with missing values: 47621\n"
          ]
        }
      ],
      "source": [
        "# Hapus baris yang memiliki missing value\n",
        "print(\"Rows before dropping any with missing values:\", df.shape[0])\n",
        "print(\"Rows with missing values:\", df.isnull().any(axis=1).sum())\n",
        "df.dropna(inplace=True)\n",
        "print(\"Rows after dropping any with missing values:\", df.shape[0])\n"
      ]
    },
    {
      "cell_type": "code",
      "execution_count": 8,
      "metadata": {},
      "outputs": [
        {
          "data": {
            "text/plain": [
              "age               0\n",
              "workclass         0\n",
              "fnlwgt            0\n",
              "education         0\n",
              "education-num     0\n",
              "marital-status    0\n",
              "occupation        0\n",
              "relationship      0\n",
              "race              0\n",
              "sex               0\n",
              "capital-gain      0\n",
              "capital-loss      0\n",
              "hours-per-week    0\n",
              "native-country    0\n",
              "income            0\n",
              "dtype: int64"
            ]
          },
          "execution_count": 8,
          "metadata": {},
          "output_type": "execute_result"
        }
      ],
      "source": [
        "df.isnull().sum()"
      ]
    },
    {
      "cell_type": "code",
      "execution_count": 9,
      "metadata": {
        "colab": {
          "base_uri": "https://localhost:8080/"
        },
        "id": "O9Y33kMZUW3C",
        "outputId": "567bdc54-a69e-43cf-f0ae-66e659b1bd0a"
      },
      "outputs": [
        {
          "name": "stdout",
          "output_type": "stream",
          "text": [
            "Number of duplicate rows: 29\n"
          ]
        }
      ],
      "source": [
        "# pengecekan duplikasi data\n",
        "print(\"Number of duplicate rows:\", df.duplicated().sum())"
      ]
    },
    {
      "cell_type": "code",
      "execution_count": 10,
      "metadata": {
        "colab": {
          "base_uri": "https://localhost:8080/"
        },
        "id": "Xj9x_7V5aLjT",
        "outputId": "10e36698-2997-45be-b42f-a17d9f5a7975"
      },
      "outputs": [
        {
          "name": "stdout",
          "output_type": "stream",
          "text": [
            "Number of rows after removing duplicates: 47592\n"
          ]
        }
      ],
      "source": [
        "# Menghapus duplikasi data\n",
        "df.drop_duplicates(inplace=True)\n",
        "\n",
        "# Menampilkan jumlah baris setelah menghapus duplikasi\n",
        "print(\"Number of rows after removing duplicates:\", df.shape[0])"
      ]
    },
    {
      "cell_type": "code",
      "execution_count": 11,
      "metadata": {
        "colab": {
          "base_uri": "https://localhost:8080/",
          "height": 223
        },
        "id": "mEelSWNoaToq",
        "outputId": "f55a9e85-fec8-4834-f821-161a38bd50b0"
      },
      "outputs": [
        {
          "name": "stdout",
          "output_type": "stream",
          "text": [
            "DataFrame after Label Encoding on target [income]:\n"
          ]
        },
        {
          "data": {
            "text/html": [
              "<div>\n",
              "<style scoped>\n",
              "    .dataframe tbody tr th:only-of-type {\n",
              "        vertical-align: middle;\n",
              "    }\n",
              "\n",
              "    .dataframe tbody tr th {\n",
              "        vertical-align: top;\n",
              "    }\n",
              "\n",
              "    .dataframe thead th {\n",
              "        text-align: right;\n",
              "    }\n",
              "</style>\n",
              "<table border=\"1\" class=\"dataframe\">\n",
              "  <thead>\n",
              "    <tr style=\"text-align: right;\">\n",
              "      <th></th>\n",
              "      <th>age</th>\n",
              "      <th>workclass</th>\n",
              "      <th>fnlwgt</th>\n",
              "      <th>education</th>\n",
              "      <th>education-num</th>\n",
              "      <th>marital-status</th>\n",
              "      <th>occupation</th>\n",
              "      <th>relationship</th>\n",
              "      <th>race</th>\n",
              "      <th>sex</th>\n",
              "      <th>capital-gain</th>\n",
              "      <th>capital-loss</th>\n",
              "      <th>hours-per-week</th>\n",
              "      <th>native-country</th>\n",
              "      <th>income</th>\n",
              "    </tr>\n",
              "  </thead>\n",
              "  <tbody>\n",
              "    <tr>\n",
              "      <th>0</th>\n",
              "      <td>39</td>\n",
              "      <td>State-gov</td>\n",
              "      <td>77516</td>\n",
              "      <td>Bachelors</td>\n",
              "      <td>13</td>\n",
              "      <td>Never-married</td>\n",
              "      <td>Adm-clerical</td>\n",
              "      <td>Not-in-family</td>\n",
              "      <td>White</td>\n",
              "      <td>Male</td>\n",
              "      <td>2174</td>\n",
              "      <td>0</td>\n",
              "      <td>40</td>\n",
              "      <td>United-States</td>\n",
              "      <td>0</td>\n",
              "    </tr>\n",
              "    <tr>\n",
              "      <th>1</th>\n",
              "      <td>50</td>\n",
              "      <td>Self-emp-not-inc</td>\n",
              "      <td>83311</td>\n",
              "      <td>Bachelors</td>\n",
              "      <td>13</td>\n",
              "      <td>Married-civ-spouse</td>\n",
              "      <td>Exec-managerial</td>\n",
              "      <td>Husband</td>\n",
              "      <td>White</td>\n",
              "      <td>Male</td>\n",
              "      <td>0</td>\n",
              "      <td>0</td>\n",
              "      <td>13</td>\n",
              "      <td>United-States</td>\n",
              "      <td>0</td>\n",
              "    </tr>\n",
              "    <tr>\n",
              "      <th>2</th>\n",
              "      <td>38</td>\n",
              "      <td>Private</td>\n",
              "      <td>215646</td>\n",
              "      <td>HS-grad</td>\n",
              "      <td>9</td>\n",
              "      <td>Divorced</td>\n",
              "      <td>Handlers-cleaners</td>\n",
              "      <td>Not-in-family</td>\n",
              "      <td>White</td>\n",
              "      <td>Male</td>\n",
              "      <td>0</td>\n",
              "      <td>0</td>\n",
              "      <td>40</td>\n",
              "      <td>United-States</td>\n",
              "      <td>0</td>\n",
              "    </tr>\n",
              "    <tr>\n",
              "      <th>3</th>\n",
              "      <td>53</td>\n",
              "      <td>Private</td>\n",
              "      <td>234721</td>\n",
              "      <td>11th</td>\n",
              "      <td>7</td>\n",
              "      <td>Married-civ-spouse</td>\n",
              "      <td>Handlers-cleaners</td>\n",
              "      <td>Husband</td>\n",
              "      <td>Black</td>\n",
              "      <td>Male</td>\n",
              "      <td>0</td>\n",
              "      <td>0</td>\n",
              "      <td>40</td>\n",
              "      <td>United-States</td>\n",
              "      <td>0</td>\n",
              "    </tr>\n",
              "    <tr>\n",
              "      <th>4</th>\n",
              "      <td>28</td>\n",
              "      <td>Private</td>\n",
              "      <td>338409</td>\n",
              "      <td>Bachelors</td>\n",
              "      <td>13</td>\n",
              "      <td>Married-civ-spouse</td>\n",
              "      <td>Prof-specialty</td>\n",
              "      <td>Wife</td>\n",
              "      <td>Black</td>\n",
              "      <td>Female</td>\n",
              "      <td>0</td>\n",
              "      <td>0</td>\n",
              "      <td>40</td>\n",
              "      <td>Cuba</td>\n",
              "      <td>0</td>\n",
              "    </tr>\n",
              "  </tbody>\n",
              "</table>\n",
              "</div>"
            ],
            "text/plain": [
              "   age         workclass  fnlwgt  education  education-num  \\\n",
              "0   39         State-gov   77516  Bachelors             13   \n",
              "1   50  Self-emp-not-inc   83311  Bachelors             13   \n",
              "2   38           Private  215646    HS-grad              9   \n",
              "3   53           Private  234721       11th              7   \n",
              "4   28           Private  338409  Bachelors             13   \n",
              "\n",
              "       marital-status         occupation   relationship   race     sex  \\\n",
              "0       Never-married       Adm-clerical  Not-in-family  White    Male   \n",
              "1  Married-civ-spouse    Exec-managerial        Husband  White    Male   \n",
              "2            Divorced  Handlers-cleaners  Not-in-family  White    Male   \n",
              "3  Married-civ-spouse  Handlers-cleaners        Husband  Black    Male   \n",
              "4  Married-civ-spouse     Prof-specialty           Wife  Black  Female   \n",
              "\n",
              "   capital-gain  capital-loss  hours-per-week native-country  income  \n",
              "0          2174             0              40  United-States       0  \n",
              "1             0             0              13  United-States       0  \n",
              "2             0             0              40  United-States       0  \n",
              "3             0             0              40  United-States       0  \n",
              "4             0             0              40           Cuba       0  "
            ]
          },
          "execution_count": 11,
          "metadata": {},
          "output_type": "execute_result"
        }
      ],
      "source": [
        "from sklearn.preprocessing import LabelEncoder\n",
        "\n",
        "# Buat encoder\n",
        "le = LabelEncoder()\n",
        "\n",
        "# Encode hanya kolom target 'income'\n",
        "df['income'] = le.fit_transform(df['income'])\n",
        "\n",
        "print(\"DataFrame after Label Encoding on target [income]:\")\n",
        "df.head()\n"
      ]
    },
    {
      "cell_type": "code",
      "execution_count": 12,
      "metadata": {
        "colab": {
          "base_uri": "https://localhost:8080/",
          "height": 337
        },
        "id": "iHQjzEfHa_aF",
        "outputId": "44cd137d-ef9a-4b1e-e74d-0ef8e198bdb6"
      },
      "outputs": [
        {
          "data": {
            "text/html": [
              "<div>\n",
              "<style scoped>\n",
              "    .dataframe tbody tr th:only-of-type {\n",
              "        vertical-align: middle;\n",
              "    }\n",
              "\n",
              "    .dataframe tbody tr th {\n",
              "        vertical-align: top;\n",
              "    }\n",
              "\n",
              "    .dataframe thead th {\n",
              "        text-align: right;\n",
              "    }\n",
              "</style>\n",
              "<table border=\"1\" class=\"dataframe\">\n",
              "  <thead>\n",
              "    <tr style=\"text-align: right;\">\n",
              "      <th></th>\n",
              "      <th>age</th>\n",
              "      <th>fnlwgt</th>\n",
              "      <th>education-num</th>\n",
              "      <th>capital-gain</th>\n",
              "      <th>capital-loss</th>\n",
              "      <th>hours-per-week</th>\n",
              "      <th>income</th>\n",
              "    </tr>\n",
              "  </thead>\n",
              "  <tbody>\n",
              "    <tr>\n",
              "      <th>count</th>\n",
              "      <td>47592.000000</td>\n",
              "      <td>4.759200e+04</td>\n",
              "      <td>47592.000000</td>\n",
              "      <td>47592.00000</td>\n",
              "      <td>47592.000000</td>\n",
              "      <td>47592.000000</td>\n",
              "      <td>47592.000000</td>\n",
              "    </tr>\n",
              "    <tr>\n",
              "      <th>mean</th>\n",
              "      <td>38.644541</td>\n",
              "      <td>1.897310e+05</td>\n",
              "      <td>10.091444</td>\n",
              "      <td>1091.80253</td>\n",
              "      <td>87.907022</td>\n",
              "      <td>40.602895</td>\n",
              "      <td>0.801248</td>\n",
              "    </tr>\n",
              "    <tr>\n",
              "      <th>std</th>\n",
              "      <td>13.557307</td>\n",
              "      <td>1.055717e+05</td>\n",
              "      <td>2.567580</td>\n",
              "      <td>7489.46073</td>\n",
              "      <td>404.127864</td>\n",
              "      <td>12.259716</td>\n",
              "      <td>0.977323</td>\n",
              "    </tr>\n",
              "    <tr>\n",
              "      <th>min</th>\n",
              "      <td>17.000000</td>\n",
              "      <td>1.228500e+04</td>\n",
              "      <td>1.000000</td>\n",
              "      <td>0.00000</td>\n",
              "      <td>0.000000</td>\n",
              "      <td>1.000000</td>\n",
              "      <td>0.000000</td>\n",
              "    </tr>\n",
              "    <tr>\n",
              "      <th>25%</th>\n",
              "      <td>28.000000</td>\n",
              "      <td>1.175848e+05</td>\n",
              "      <td>9.000000</td>\n",
              "      <td>0.00000</td>\n",
              "      <td>0.000000</td>\n",
              "      <td>40.000000</td>\n",
              "      <td>0.000000</td>\n",
              "    </tr>\n",
              "    <tr>\n",
              "      <th>50%</th>\n",
              "      <td>37.000000</td>\n",
              "      <td>1.782820e+05</td>\n",
              "      <td>10.000000</td>\n",
              "      <td>0.00000</td>\n",
              "      <td>0.000000</td>\n",
              "      <td>40.000000</td>\n",
              "      <td>0.000000</td>\n",
              "    </tr>\n",
              "    <tr>\n",
              "      <th>75%</th>\n",
              "      <td>48.000000</td>\n",
              "      <td>2.377130e+05</td>\n",
              "      <td>12.000000</td>\n",
              "      <td>0.00000</td>\n",
              "      <td>0.000000</td>\n",
              "      <td>45.000000</td>\n",
              "      <td>1.000000</td>\n",
              "    </tr>\n",
              "    <tr>\n",
              "      <th>max</th>\n",
              "      <td>90.000000</td>\n",
              "      <td>1.490400e+06</td>\n",
              "      <td>16.000000</td>\n",
              "      <td>99999.00000</td>\n",
              "      <td>4356.000000</td>\n",
              "      <td>99.000000</td>\n",
              "      <td>3.000000</td>\n",
              "    </tr>\n",
              "  </tbody>\n",
              "</table>\n",
              "</div>"
            ],
            "text/plain": [
              "                age        fnlwgt  education-num  capital-gain  capital-loss  \\\n",
              "count  47592.000000  4.759200e+04   47592.000000   47592.00000  47592.000000   \n",
              "mean      38.644541  1.897310e+05      10.091444    1091.80253     87.907022   \n",
              "std       13.557307  1.055717e+05       2.567580    7489.46073    404.127864   \n",
              "min       17.000000  1.228500e+04       1.000000       0.00000      0.000000   \n",
              "25%       28.000000  1.175848e+05       9.000000       0.00000      0.000000   \n",
              "50%       37.000000  1.782820e+05      10.000000       0.00000      0.000000   \n",
              "75%       48.000000  2.377130e+05      12.000000       0.00000      0.000000   \n",
              "max       90.000000  1.490400e+06      16.000000   99999.00000   4356.000000   \n",
              "\n",
              "       hours-per-week        income  \n",
              "count    47592.000000  47592.000000  \n",
              "mean        40.602895      0.801248  \n",
              "std         12.259716      0.977323  \n",
              "min          1.000000      0.000000  \n",
              "25%         40.000000      0.000000  \n",
              "50%         40.000000      0.000000  \n",
              "75%         45.000000      1.000000  \n",
              "max         99.000000      3.000000  "
            ]
          },
          "execution_count": 12,
          "metadata": {},
          "output_type": "execute_result"
        }
      ],
      "source": [
        "df.describe()"
      ]
    },
    {
      "cell_type": "code",
      "execution_count": 13,
      "metadata": {
        "colab": {
          "base_uri": "https://localhost:8080/",
          "height": 52
        },
        "id": "M_Q-owztcC4t",
        "outputId": "1d702e73-f51b-43c2-adb6-8eb4aebf2df7"
      },
      "outputs": [
        {
          "name": "stdout",
          "output_type": "stream",
          "text": [
            "Unique values in the 'income' column before encoding:\n"
          ]
        },
        {
          "data": {
            "text/plain": [
              "array(['<=50K', '>50K', '<=50K.', '>50K.'], dtype=object)"
            ]
          },
          "metadata": {},
          "output_type": "display_data"
        }
      ],
      "source": [
        "print(\"Unique values in the 'income' column before encoding:\")\n",
        "display(adult.data.targets['income'].unique())"
      ]
    },
    {
      "cell_type": "markdown",
      "metadata": {
        "id": "J6OWjW54bPyz"
      },
      "source": [
        "Disini variabel target(income) berisi  0 - 3 ('<=50K', '>50K', '<=50K.', '>50K.' )\n"
      ]
    },
    {
      "cell_type": "code",
      "execution_count": 14,
      "metadata": {
        "colab": {
          "base_uri": "https://localhost:8080/"
        },
        "id": "y13f34f_cc4D",
        "outputId": "8fa23b19-5477-4a8c-f776-11dcfbf09298"
      },
      "outputs": [
        {
          "name": "stdout",
          "output_type": "stream",
          "text": [
            "Shape of X_train: (33314, 14)\n",
            "Shape of X_test: (14278, 14)\n",
            "Shape of y_train: (33314,)\n",
            "Shape of y_test: (14278,)\n"
          ]
        }
      ],
      "source": [
        "from sklearn.model_selection import train_test_split\n",
        "\n",
        "# Define features (X) and target (y)\n",
        "X = df.drop('income', axis=1)\n",
        "y = df['income']\n",
        "\n",
        "# Split the dataset into training and testing sets\n",
        "X_train, X_test, y_train, y_test = train_test_split(X, y, test_size=0.3, random_state=42)\n",
        "\n",
        "print(\"Shape of X_train:\", X_train.shape)\n",
        "print(\"Shape of X_test:\", X_test.shape)\n",
        "print(\"Shape of y_train:\", y_train.shape)\n",
        "print(\"Shape of y_test:\", y_test.shape)"
      ]
    },
    {
      "cell_type": "code",
      "execution_count": 15,
      "metadata": {},
      "outputs": [
        {
          "name": "stdout",
          "output_type": "stream",
          "text": [
            "X_train after Label Encoding:\n",
            "       age  workclass  fnlwgt  education  education-num  marital-status  \\\n",
            "28343   50          4  196193          9             13               2   \n",
            "15046   34          4  248754          1              7               4   \n",
            "12281   55          4  158641         11              9               6   \n",
            "43947   19          4  136758         15             10               4   \n",
            "19202   46          4   99086         15             10               2   \n",
            "\n",
            "       occupation  relationship  race  sex  capital-gain  capital-loss  \\\n",
            "28343           3             0     4    1             0             0   \n",
            "15046           7             1     4    1             0             0   \n",
            "12281           1             1     4    0             0             0   \n",
            "43947          13             3     4    0             0             0   \n",
            "19202           1             5     4    0             0             0   \n",
            "\n",
            "       hours-per-week  native-country  \n",
            "28343              40               0  \n",
            "15046              40              39  \n",
            "12281              40              39  \n",
            "43947              10              39  \n",
            "19202              40              39  \n",
            "\n",
            "X_test after Label Encoding:\n",
            "       age  workclass  fnlwgt  education  education-num  marital-status  \\\n",
            "6658    47          2  265097         11              9               2   \n",
            "37611   69          4  192660         11              9               6   \n",
            "32664   58          6  301568          6              5               6   \n",
            "4855    20          4  275190         11              9               4   \n",
            "26351   31          4  127215         15             10               2   \n",
            "\n",
            "       occupation  relationship  race  sex  capital-gain  capital-loss  \\\n",
            "6658            8             0     4    1          4386             0   \n",
            "37611           1             4     4    0             0             0   \n",
            "32664           8             1     4    0             0             0   \n",
            "4855            1             3     4    0             0             0   \n",
            "26351          12             0     4    1             0             0   \n",
            "\n",
            "       hours-per-week  native-country  \n",
            "6658               40              39  \n",
            "37611              20              39  \n",
            "32664              40              39  \n",
            "4855               40              39  \n",
            "26351              40              39  \n"
          ]
        }
      ],
      "source": [
        "# Label encoding hanya untuk kolom bertipe object di X_train\n",
        "from sklearn.preprocessing import LabelEncoder\n",
        "\n",
        "encoders = {}\n",
        "\n",
        "# Pilih kolom kategorikal dari X_train\n",
        "categorical_cols = X_train.select_dtypes(include=['object']).columns\n",
        "\n",
        "# Fit encoder pada train dan transform train + test\n",
        "for col in categorical_cols:\n",
        "    le = LabelEncoder()\n",
        "    X_train[col] = le.fit_transform(X_train[col])  # Encode X_train\n",
        "    X_test[col] = le.transform(X_test[col])  # Transform X_test menggunakan encoder yang sama\n",
        "    encoders[col] = le  # Simpan encoder untuk referensi\n",
        "\n",
        "print(\"X_train after Label Encoding:\")\n",
        "print(X_train.head())\n",
        "\n",
        "print(\"\\nX_test after Label Encoding:\")\n",
        "print(X_test.head())"
      ]
    },
    {
      "cell_type": "code",
      "execution_count": 16,
      "metadata": {
        "colab": {
          "base_uri": "https://localhost:8080/",
          "height": 258
        },
        "id": "E1GHEPlTc5qw",
        "outputId": "dfcdf641-57dc-4e6b-986a-80eef10d84fb"
      },
      "outputs": [
        {
          "name": "stdout",
          "output_type": "stream",
          "text": [
            "Class distribution in the training set (y_train):\n"
          ]
        },
        {
          "data": {
            "text/plain": [
              "income\n",
              "0    17305\n",
              "1     7990\n",
              "2     5447\n",
              "3     2572\n",
              "Name: count, dtype: int64"
            ]
          },
          "metadata": {},
          "output_type": "display_data"
        }
      ],
      "source": [
        "print(\"Class distribution in the training set (y_train):\")\n",
        "display(y_train.value_counts())"
      ]
    },
    {
      "cell_type": "code",
      "execution_count": 17,
      "metadata": {
        "colab": {
          "base_uri": "https://localhost:8080/",
          "height": 310
        },
        "id": "PacTQy99dDFH",
        "outputId": "49f708ea-3cff-494f-f0d7-9b04f1db5fba"
      },
      "outputs": [
        {
          "name": "stdout",
          "output_type": "stream",
          "text": [
            "Shape of X_train after SMOTE: (69220, 14)\n",
            "Shape of y_train after SMOTE: (69220,)\n",
            "\n",
            "Class distribution in the training set after SMOTE:\n"
          ]
        },
        {
          "data": {
            "text/plain": [
              "income\n",
              "0    17305\n",
              "1    17305\n",
              "2    17305\n",
              "3    17305\n",
              "Name: count, dtype: int64"
            ]
          },
          "metadata": {},
          "output_type": "display_data"
        }
      ],
      "source": [
        "from imblearn.over_sampling import SMOTE\n",
        "\n",
        "# Apply SMOTE to the training data\n",
        "smote = SMOTE(random_state=42)\n",
        "X_train_resampled, y_train_resampled = smote.fit_resample(X_train, y_train)\n",
        "\n",
        "print(\"Shape of X_train after SMOTE:\", X_train_resampled.shape)\n",
        "print(\"Shape of y_train after SMOTE:\", y_train_resampled.shape)\n",
        "print(\"\\nClass distribution in the training set after SMOTE:\")\n",
        "display(y_train_resampled.value_counts())"
      ]
    },
    {
      "cell_type": "code",
      "execution_count": 18,
      "metadata": {
        "colab": {
          "base_uri": "https://localhost:8080/",
          "height": 329
        },
        "id": "IC30kbrndT6z",
        "outputId": "29194eda-2962-496e-cf16-9c31a3241de2"
      },
      "outputs": [
        {
          "name": "stdout",
          "output_type": "stream",
          "text": [
            "Shape of scaled training data: (69220, 14)\n",
            "\n",
            "First 5 rows of scaled training data:\n"
          ]
        },
        {
          "data": {
            "text/plain": [
              "array([[ 0.82127481,  0.1040366 ,  0.06482522, -0.39527689,  1.09886607,\n",
              "        -0.26111664, -0.99647419, -0.72672615,  0.41423727,  0.72895957,\n",
              "        -0.19670309, -0.25131591, -0.19306661, -5.89064372],\n",
              "       [-0.52644424,  0.1040366 ,  0.57544864, -2.83387461, -1.4348388 ,\n",
              "         1.32415669,  0.07727772, -0.04026348,  0.41423727,  0.72895957,\n",
              "        -0.19670309, -0.25131591, -0.19306661,  0.28950969],\n",
              "       [ 1.24243702,  0.1040366 , -0.29998768,  0.21437254, -0.59027051,\n",
              "         2.90943003, -1.53335014, -0.04026348,  0.41423727, -1.3718182 ,\n",
              "        -0.19670309, -0.25131591, -0.19306661,  0.28950969],\n",
              "       [-1.78993084,  0.1040366 , -0.51257823,  1.4336714 , -0.16798637,\n",
              "         1.32415669,  1.68790558,  1.33266185,  0.41423727, -1.3718182 ,\n",
              "        -0.19670309, -0.25131591, -2.90913868,  0.28950969],\n",
              "       [ 0.48434505,  0.1040366 , -0.87855692,  1.4336714 , -0.16798637,\n",
              "        -0.26111664, -1.53335014,  2.70558718,  0.41423727, -1.3718182 ,\n",
              "        -0.19670309, -0.25131591, -0.19306661,  0.28950969]])"
            ]
          },
          "metadata": {},
          "output_type": "display_data"
        }
      ],
      "source": [
        "from sklearn.preprocessing import StandardScaler\n",
        "\n",
        "# Apply StandardScaler to the training data\n",
        "scaler = StandardScaler()\n",
        "X_train_scaled = scaler.fit_transform(X_train_resampled)\n",
        "\n",
        "print(\"Shape of scaled training data:\", X_train_scaled.shape)\n",
        "print(\"\\nFirst 5 rows of scaled training data:\")\n",
        "display(X_train_scaled[:5])"
      ]
    },
    {
      "cell_type": "markdown",
      "metadata": {
        "id": "oZ4Rr_V8esVJ"
      },
      "source": [
        "Saya hanya menerapkan metode tersebut pada data train, karena menurut saya SMOTE atau teknik pembuatan data sintetis hanya boleh dilakukan di tahap training agar tidak terjadi data leakage. Hal yang sama berlaku untuk StandardScaler, di mana proses scaling juga hanya boleh dilakukan di data latih. Alasannya sederhana: tidak boleh ada kebocoran data (no data leakage), sehingga model tidak memiliki akses ke informasi dari data validasi atau test set selama pelatihan. Selain itu, pendekatan ini juga lebih merepresentasikan kondisi nyata, di mana model nantinya akan menghadapi data baru yang belum pernah dilihat sebelumnya."
      ]
    }
  ],
  "metadata": {
    "colab": {
      "provenance": []
    },
    "kernelspec": {
      "display_name": "Python 3",
      "name": "python3"
    },
    "language_info": {
      "codemirror_mode": {
        "name": "ipython",
        "version": 3
      },
      "file_extension": ".py",
      "mimetype": "text/x-python",
      "name": "python",
      "nbconvert_exporter": "python",
      "pygments_lexer": "ipython3",
      "version": "3.13.7"
    }
  },
  "nbformat": 4,
  "nbformat_minor": 0
}
